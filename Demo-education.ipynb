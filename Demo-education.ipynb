{
 "cells": [
  {
   "cell_type": "markdown",
   "metadata": {},
   "source": [
    "# Getting started with pySpectroWorks "
   ]
  },
  {
   "cell_type": "markdown",
   "metadata": {},
   "source": [
    "First we must import import the pySpectroWorks module.\n",
    "We will also be using matplotlib for plotting and datetime for formatting timestamps. \n",
    "We will be using numpy for working with spectral data. "
   ]
  },
  {
   "cell_type": "code",
   "execution_count": 61,
   "metadata": {},
   "outputs": [],
   "source": [
    "# import dependencies\n",
    "import pyspectroworks\n",
    "import matplotlib.pyplot as plt\n",
    "from datetime import datetime\n",
    "import numpy as np"
   ]
  },
  {
   "cell_type": "markdown",
   "metadata": {},
   "source": [
    "We create a new connection to SpectroWorks using our API key. You can generate your own API keys by logging into SpectroWorks and then clicking your E-mail address in the top right corner, then \"Profile\" and then click \"Create new API key\". "
   ]
  },
  {
   "cell_type": "code",
   "execution_count": 62,
   "metadata": {},
   "outputs": [],
   "source": [
    "conn = pyspectroworks.connect('YjVlNjlmOGQtMGJjZi00OTIxLWE1ZTUtZjJjMTM2NTc2ZjEw')  # change this to match your API key"
   ]
  },
  {
   "cell_type": "markdown",
   "metadata": {},
   "source": [
    "Projects can be accessed with the *get_projects()* method of the *connection* object. "
   ]
  },
  {
   "cell_type": "code",
   "execution_count": 63,
   "metadata": {
    "scrolled": true,
    "tags": []
   },
   "outputs": [
    {
     "name": "stdout",
     "output_type": "stream",
     "text": [
      " Index                             NAME                  CREATED\n",
      "     0            Honey example project      2020-09-18 11:30:09 \n",
      "     1   Brilliant Blue example project      2020-09-18 11:33:06 \n",
      "     2 Starch in saliva example project      2020-09-18 11:35:07 \n"
     ]
    }
   ],
   "source": [
    "print('{: >6} {: >32} {: >24}'.format('Index', 'NAME', 'CREATED'))\n",
    "projects = conn.get_projects()\n",
    "for i, project in enumerate(projects):\n",
    "    timestamp = datetime.utcfromtimestamp(project.created/1000).strftime('%Y-%m-%d %H:%M:%S')  # convert from unix timestamp to ISO time representation\n",
    "    print('{: >6} {: >32} {: >24} '.format(i, project.project_name, timestamp))"
   ]
  },
  {
   "cell_type": "markdown",
   "metadata": {},
   "source": [
    "Here you have access to the three example projects. If you want to create these projects yourself then you can find the example data on https://cphnano.com/spectroworks/"
   ]
  },
  {
   "cell_type": "markdown",
   "metadata": {},
   "source": [
    "You can access all the items in a project using its *get_items()* method. "
   ]
  },
  {
   "cell_type": "code",
   "execution_count": 64,
   "metadata": {
    "tags": []
   },
   "outputs": [],
   "source": [
    "project = projects[0]  # change this to the project number you want to access\n",
    "items = project.get_items()"
   ]
  },
  {
   "cell_type": "markdown",
   "metadata": {},
   "source": [
    "Let's see how we can access the results of a specific item:"
   ]
  },
  {
   "cell_type": "code",
   "execution_count": 65,
   "metadata": {},
   "outputs": [
    {
     "name": "stdout",
     "output_type": "stream",
     "text": [
      "sample_fit_quality, ref_fit_quality, convert_to_brix, refractive_index\n"
     ]
    }
   ],
   "source": [
    "item = items[0]  # access the first item\n",
    "\n",
    "print(', '.join(item.results.keys()))"
   ]
  },
  {
   "cell_type": "markdown",
   "metadata": {},
   "source": [
    "These are the results available in this project. To get other results add them to your project in SpectroWorks. Let's extract the refractive index and brix values for this item:"
   ]
  },
  {
   "cell_type": "code",
   "execution_count": 66,
   "metadata": {},
   "outputs": [
    {
     "name": "stdout",
     "output_type": "stream",
     "text": [
      "Refractive Index     Degrees Brix\n",
      "        1.507196            86.16\n"
     ]
    }
   ],
   "source": [
    "ri = item.results['refractive_index']['value']   # extract the value of the refractive index result\n",
    "brix = item.results['convert_to_brix']['value']  # extract the value of the brix result\n",
    "print('{: >16} {: >16}'.format('Refractive Index', 'Degrees Brix'))\n",
    "print('{: >16.6f} {: >16.2f}'.format(ri, brix))"
   ]
  },
  {
   "cell_type": "markdown",
   "metadata": {},
   "source": [
    "Now we will see how to work with spectral data:"
   ]
  },
  {
   "cell_type": "code",
   "execution_count": 67,
   "metadata": {
    "tags": []
   },
   "outputs": [
    {
     "data": {
      "image/png": "[encoded data removed]",
      "text/plain": [
       "<Figure size 432x288 with 1 Axes>"
      ]
     },
     "metadata": {
      "needs_background": "light"
     },
     "output_type": "display_data"
    }
   ],
   "source": [
    "# Get reference and sample B side spectra. \n",
    "# The available spectrum types are: 'reference_B', 'Sample_A', 'sample_B' and 'sample_D'. \n",
    "ref_spectrum = np.array(item.get_spectrum('reference_B'))\n",
    "sample_spectrum = np.array(item.get_spectrum('sample_B'))\n",
    "\n",
    "plt.figure()                                                             # create a new figure\n",
    "plt.plot(ref_spectrum[:, 0], ref_spectrum[:, 1], label='Reference')      # plot reference spectrum\n",
    "plt.plot(sample_spectrum[:, 0], sample_spectrum[:, 1], label='Sample')   # plot sample spectrum\n",
    "plt.xlim([550, 850])                                                     # set the wavelength range\n",
    "plt.ylim(0.0, 0.4)                                                       # set the attenuance range\n",
    "plt.legend()                                                             # show legends\n",
    "plt.xlabel('Wavelength [nm]')                                            # label the X-axis\n",
    "plt.ylabel('Attenuance')                                                 # label the Y-axis\n",
    "plt.show()                                                               # show the figure"
   ]
  },
  {
   "cell_type": "markdown",
   "metadata": {},
   "source": [
    "Notice the shift between the reference and the sample. This is due to the sample having a higher refractive index than the reference. "
   ]
  },
  {
   "cell_type": "code",
   "execution_count": null,
   "metadata": {},
   "outputs": [],
   "source": []
  }
 ],
 "metadata": {
  "kernelspec": {
   "display_name": "Python 3",
   "language": "python",
   "name": "python3"
  },
  "language_info": {
   "codemirror_mode": {
    "name": "ipython",
    "version": 3
   },
   "file_extension": ".py",
   "mimetype": "text/x-python",
   "name": "python",
   "nbconvert_exporter": "python",
   "pygments_lexer": "ipython3",
   "version": "3.7.6"
  }
 },
 "nbformat": 4,
 "nbformat_minor": 2
}
