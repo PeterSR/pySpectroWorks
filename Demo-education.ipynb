{
 "cells": [
  {
   "cell_type": "markdown",
   "metadata": {},
   "source": [
    "# Demo of spectroworks "
   ]
  },
  {
   "cell_type": "markdown",
   "metadata": {},
   "source": [
    "## Import dependencies"
   ]
  },
  {
   "cell_type": "code",
   "execution_count": 7,
   "metadata": {},
   "outputs": [],
   "source": [
    "import matplotlib.pyplot as plt\n",
    "import pyspectroworks\n",
    "from datetime import datetime"
   ]
  },
  {
   "cell_type": "markdown",
   "metadata": {},
   "source": [
    "## Establish connection to SpectroWorks"
   ]
  },
  {
   "cell_type": "code",
   "execution_count": 9,
   "metadata": {},
   "outputs": [],
   "source": [
    "conn = pyspectroworks.connect('INSERT API KEY')  # change this to match your API key"
   ]
  },
  {
   "cell_type": "markdown",
   "metadata": {},
   "source": [
    "## Get projects"
   ]
  },
  {
   "cell_type": "code",
   "execution_count": 10,
   "metadata": {
    "tags": [],
    "collapsed": false
   },
   "outputs": [
    {
     "name": "stdout",
     "output_type": "stream",
     "text": [
      "PROJECTS: \n                        NAME                  CREATED\n  0                    Test1      2020-07-13 14:58:34 \n  1           20200722_lotte      2020-07-22 13:35:18 \n  2      Juice concentration      2020-07-23 11:52:30 \n  3                     Tes5      2020-07-31 13:12:22 \n"
     ]
    }
   ],
   "source": [
    "print('PROJECTS: ')\n",
    "print('{: >3} {: >24} {: >24}'.format(' ', 'NAME', 'CREATED'))\n",
    "projects = conn.get_projects()\n",
    "for i, project in enumerate(projects):\n",
    "    timestamp = datetime.utcfromtimestamp(project.created/1000).strftime('%Y-%m-%d %H:%M:%S')\n",
    "    print('{: >3} {: >24} {: >24} '.format(i, project.project_name, timestamp))"
   ]
  },
  {
   "cell_type": "markdown",
   "metadata": {},
   "source": [
    "## Open a specific project"
   ]
  },
  {
   "cell_type": "code",
   "execution_count": 22,
   "metadata": {
    "tags": [],
    "collapsed": true
   },
   "outputs": [
    {
     "name": "stdout",
     "output_type": "stream",
     "text": [
      "TESTER01\t1.339745670277606\n"
     ]
    }
   ],
   "source": [
    "values = []\n",
    "items = projects[0].get_items()\n",
    "for item in items:\n",
    "    res = item.results.get('refractive_index', {})\n",
    "    ri = res.get('value', 'N/A')\n",
    "    values.append(ri)\n",
    "    print('{: >6}{:0>2}\\t{: >8}'.format(item.box_code, item.cuvette_idx, ri))\n"
   ]
  },
  {
   "cell_type": "markdown",
   "metadata": {},
   "source": []
  },
  {
   "cell_type": "markdown",
   "metadata": {},
   "source": [
    "## Plot all RI values"
   ]
  },
  {
   "cell_type": "code",
   "execution_count": 23,
   "metadata": {
    "collapsed": true
   },
   "outputs": [
    {
     "data": {
      "text/plain": [
       "[<matplotlib.lines.Line2D at 0x7fcb3d26ac50>]"
      ]
     },
     "execution_count": 23,
     "metadata": {},
     "output_type": "execute_result"
    },
    {
     "data": {
      "image/png": "[encoded data removed]",
      "text/plain": [
       "<Figure size 432x288 with 1 Axes>"
      ]
     },
     "metadata": {
      "needs_background": "light"
     },
     "output_type": "display_data"
    }
   ],
   "source": [
    "plt.plot(values)"
   ]
  },
  {
   "cell_type": "markdown",
   "metadata": {},
   "source": [
    "## Plot all spectras"
   ]
  },
  {
   "cell_type": "code",
   "execution_count": 33,
   "metadata": {
    "tags": [],
    "collapsed": true
   },
   "outputs": [
    {
     "data": {
      "image/png": "[encoded data removed]",
      "text/plain": [
       "<Figure size 432x288 with 1 Axes>"
      ]
     },
     "metadata": {
      "needs_background": "light"
     },
     "output_type": "display_data"
    }
   ],
   "source": [
    "fig = plt.figure()\n",
    "\n",
    "for item in items:\n",
    "    spectrum = item.get_spectrum('sample_B')\n",
    "    wl, values = zip(*spectrum)\n",
    "    plt.plot(wl, values)\n",
    "\n",
    "plt.xlim([550, 850])\n",
    "plt.ylim(0.2, 0.8)\n",
    "plt.show()"
   ]
  },
  {
   "cell_type": "code",
   "execution_count": null,
   "metadata": {},
   "outputs": [],
   "source": []
  }
 ],
 "metadata": {
  "language_info": {
   "codemirror_mode": {
    "name": "ipython",
    "version": 3
   },
   "file_extension": ".py",
   "mimetype": "text/x-python",
   "name": "python",
   "nbconvert_exporter": "python",
   "pygments_lexer": "ipython3",
   "version": "3.7.6-final"
  },
  "orig_nbformat": 2.0,
  "kernelspec": {
   "name": "python37664bittfcondac73cdced644e4db394dbf40c3858baba",
   "display_name": "Python 3.7.6 64-bit ('tf': conda)"
  }
 },
 "nbformat": 4,
 "nbformat_minor": 2
}
